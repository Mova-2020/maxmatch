{
  "nbformat": 4,
  "nbformat_minor": 0,
  "metadata": {
    "colab": {
      "name": "reverse_dictionary_UkrainianBERT.ipynb",
      "provenance": [],
      "include_colab_link": true
    },
    "kernelspec": {
      "name": "python3",
      "display_name": "Python 3"
    },
    "widgets": {
      "application/vnd.jupyter.widget-state+json": {
        "3875c3049b0b48aaa725c4fdba3438a9": {
          "model_module": "@jupyter-widgets/controls",
          "model_name": "HBoxModel",
          "state": {
            "_view_name": "HBoxView",
            "_dom_classes": [],
            "_model_name": "HBoxModel",
            "_view_module": "@jupyter-widgets/controls",
            "_model_module_version": "1.5.0",
            "_view_count": null,
            "_view_module_version": "1.5.0",
            "box_style": "",
            "layout": "IPY_MODEL_45e32e662e594c229e8796668dccdc03",
            "_model_module": "@jupyter-widgets/controls",
            "children": [
              "IPY_MODEL_631bab1fdffc44d5945c87efb8faf864",
              "IPY_MODEL_86b363c5f98a47b9b4b96ed6e8498e64"
            ]
          }
        },
        "45e32e662e594c229e8796668dccdc03": {
          "model_module": "@jupyter-widgets/base",
          "model_name": "LayoutModel",
          "state": {
            "_view_name": "LayoutView",
            "grid_template_rows": null,
            "right": null,
            "justify_content": null,
            "_view_module": "@jupyter-widgets/base",
            "overflow": null,
            "_model_module_version": "1.2.0",
            "_view_count": null,
            "flex_flow": null,
            "width": null,
            "min_width": null,
            "border": null,
            "align_items": null,
            "bottom": null,
            "_model_module": "@jupyter-widgets/base",
            "top": null,
            "grid_column": null,
            "overflow_y": null,
            "overflow_x": null,
            "grid_auto_flow": null,
            "grid_area": null,
            "grid_template_columns": null,
            "flex": null,
            "_model_name": "LayoutModel",
            "justify_items": null,
            "grid_row": null,
            "max_height": null,
            "align_content": null,
            "visibility": null,
            "align_self": null,
            "height": null,
            "min_height": null,
            "padding": null,
            "grid_auto_rows": null,
            "grid_gap": null,
            "max_width": null,
            "order": null,
            "_view_module_version": "1.2.0",
            "grid_template_areas": null,
            "object_position": null,
            "object_fit": null,
            "grid_auto_columns": null,
            "margin": null,
            "display": null,
            "left": null
          }
        },
        "631bab1fdffc44d5945c87efb8faf864": {
          "model_module": "@jupyter-widgets/controls",
          "model_name": "FloatProgressModel",
          "state": {
            "_view_name": "ProgressView",
            "style": "IPY_MODEL_39664568f58f48788f5cd7a4c90807d3",
            "_dom_classes": [],
            "description": "Downloading: 100%",
            "_model_name": "FloatProgressModel",
            "bar_style": "success",
            "max": 313,
            "_view_module": "@jupyter-widgets/controls",
            "_model_module_version": "1.5.0",
            "value": 313,
            "_view_count": null,
            "_view_module_version": "1.5.0",
            "orientation": "horizontal",
            "min": 0,
            "description_tooltip": null,
            "_model_module": "@jupyter-widgets/controls",
            "layout": "IPY_MODEL_d3ed39e639d44d26becf7a4179338da5"
          }
        },
        "86b363c5f98a47b9b4b96ed6e8498e64": {
          "model_module": "@jupyter-widgets/controls",
          "model_name": "HTMLModel",
          "state": {
            "_view_name": "HTMLView",
            "style": "IPY_MODEL_fdece5dcf9f14c5ab4e51291adf8edd4",
            "_dom_classes": [],
            "description": "",
            "_model_name": "HTMLModel",
            "placeholder": "​",
            "_view_module": "@jupyter-widgets/controls",
            "_model_module_version": "1.5.0",
            "value": " 313/313 [00:01&lt;00:00, 191B/s]",
            "_view_count": null,
            "_view_module_version": "1.5.0",
            "description_tooltip": null,
            "_model_module": "@jupyter-widgets/controls",
            "layout": "IPY_MODEL_0096040bc764433da51e238c72c892f8"
          }
        },
        "39664568f58f48788f5cd7a4c90807d3": {
          "model_module": "@jupyter-widgets/controls",
          "model_name": "ProgressStyleModel",
          "state": {
            "_view_name": "StyleView",
            "_model_name": "ProgressStyleModel",
            "description_width": "initial",
            "_view_module": "@jupyter-widgets/base",
            "_model_module_version": "1.5.0",
            "_view_count": null,
            "_view_module_version": "1.2.0",
            "bar_color": null,
            "_model_module": "@jupyter-widgets/controls"
          }
        },
        "d3ed39e639d44d26becf7a4179338da5": {
          "model_module": "@jupyter-widgets/base",
          "model_name": "LayoutModel",
          "state": {
            "_view_name": "LayoutView",
            "grid_template_rows": null,
            "right": null,
            "justify_content": null,
            "_view_module": "@jupyter-widgets/base",
            "overflow": null,
            "_model_module_version": "1.2.0",
            "_view_count": null,
            "flex_flow": null,
            "width": null,
            "min_width": null,
            "border": null,
            "align_items": null,
            "bottom": null,
            "_model_module": "@jupyter-widgets/base",
            "top": null,
            "grid_column": null,
            "overflow_y": null,
            "overflow_x": null,
            "grid_auto_flow": null,
            "grid_area": null,
            "grid_template_columns": null,
            "flex": null,
            "_model_name": "LayoutModel",
            "justify_items": null,
            "grid_row": null,
            "max_height": null,
            "align_content": null,
            "visibility": null,
            "align_self": null,
            "height": null,
            "min_height": null,
            "padding": null,
            "grid_auto_rows": null,
            "grid_gap": null,
            "max_width": null,
            "order": null,
            "_view_module_version": "1.2.0",
            "grid_template_areas": null,
            "object_position": null,
            "object_fit": null,
            "grid_auto_columns": null,
            "margin": null,
            "display": null,
            "left": null
          }
        },
        "fdece5dcf9f14c5ab4e51291adf8edd4": {
          "model_module": "@jupyter-widgets/controls",
          "model_name": "DescriptionStyleModel",
          "state": {
            "_view_name": "StyleView",
            "_model_name": "DescriptionStyleModel",
            "description_width": "",
            "_view_module": "@jupyter-widgets/base",
            "_model_module_version": "1.5.0",
            "_view_count": null,
            "_view_module_version": "1.2.0",
            "_model_module": "@jupyter-widgets/controls"
          }
        },
        "0096040bc764433da51e238c72c892f8": {
          "model_module": "@jupyter-widgets/base",
          "model_name": "LayoutModel",
          "state": {
            "_view_name": "LayoutView",
            "grid_template_rows": null,
            "right": null,
            "justify_content": null,
            "_view_module": "@jupyter-widgets/base",
            "overflow": null,
            "_model_module_version": "1.2.0",
            "_view_count": null,
            "flex_flow": null,
            "width": null,
            "min_width": null,
            "border": null,
            "align_items": null,
            "bottom": null,
            "_model_module": "@jupyter-widgets/base",
            "top": null,
            "grid_column": null,
            "overflow_y": null,
            "overflow_x": null,
            "grid_auto_flow": null,
            "grid_area": null,
            "grid_template_columns": null,
            "flex": null,
            "_model_name": "LayoutModel",
            "justify_items": null,
            "grid_row": null,
            "max_height": null,
            "align_content": null,
            "visibility": null,
            "align_self": null,
            "height": null,
            "min_height": null,
            "padding": null,
            "grid_auto_rows": null,
            "grid_gap": null,
            "max_width": null,
            "order": null,
            "_view_module_version": "1.2.0",
            "grid_template_areas": null,
            "object_position": null,
            "object_fit": null,
            "grid_auto_columns": null,
            "margin": null,
            "display": null,
            "left": null
          }
        },
        "18d3b4f3e2e54f8f9161bf7e21bdc056": {
          "model_module": "@jupyter-widgets/controls",
          "model_name": "HBoxModel",
          "state": {
            "_view_name": "HBoxView",
            "_dom_classes": [],
            "_model_name": "HBoxModel",
            "_view_module": "@jupyter-widgets/controls",
            "_model_module_version": "1.5.0",
            "_view_count": null,
            "_view_module_version": "1.5.0",
            "box_style": "",
            "layout": "IPY_MODEL_acf72893dd3347f1846b0408ab2eae9f",
            "_model_module": "@jupyter-widgets/controls",
            "children": [
              "IPY_MODEL_a34defbfba134326ba5aaa59c8af076b",
              "IPY_MODEL_262bf79ea7364b35ac8276fb3c93b6de"
            ]
          }
        },
        "acf72893dd3347f1846b0408ab2eae9f": {
          "model_module": "@jupyter-widgets/base",
          "model_name": "LayoutModel",
          "state": {
            "_view_name": "LayoutView",
            "grid_template_rows": null,
            "right": null,
            "justify_content": null,
            "_view_module": "@jupyter-widgets/base",
            "overflow": null,
            "_model_module_version": "1.2.0",
            "_view_count": null,
            "flex_flow": null,
            "width": null,
            "min_width": null,
            "border": null,
            "align_items": null,
            "bottom": null,
            "_model_module": "@jupyter-widgets/base",
            "top": null,
            "grid_column": null,
            "overflow_y": null,
            "overflow_x": null,
            "grid_auto_flow": null,
            "grid_area": null,
            "grid_template_columns": null,
            "flex": null,
            "_model_name": "LayoutModel",
            "justify_items": null,
            "grid_row": null,
            "max_height": null,
            "align_content": null,
            "visibility": null,
            "align_self": null,
            "height": null,
            "min_height": null,
            "padding": null,
            "grid_auto_rows": null,
            "grid_gap": null,
            "max_width": null,
            "order": null,
            "_view_module_version": "1.2.0",
            "grid_template_areas": null,
            "object_position": null,
            "object_fit": null,
            "grid_auto_columns": null,
            "margin": null,
            "display": null,
            "left": null
          }
        },
        "a34defbfba134326ba5aaa59c8af076b": {
          "model_module": "@jupyter-widgets/controls",
          "model_name": "FloatProgressModel",
          "state": {
            "_view_name": "ProgressView",
            "style": "IPY_MODEL_ba8f159f4fc740649434782f96e78999",
            "_dom_classes": [],
            "description": "Downloading: 100%",
            "_model_name": "FloatProgressModel",
            "bar_style": "success",
            "max": 250566,
            "_view_module": "@jupyter-widgets/controls",
            "_model_module_version": "1.5.0",
            "value": 250566,
            "_view_count": null,
            "_view_module_version": "1.5.0",
            "orientation": "horizontal",
            "min": 0,
            "description_tooltip": null,
            "_model_module": "@jupyter-widgets/controls",
            "layout": "IPY_MODEL_efe32d2a7fbd4d1bba4112e497eb95af"
          }
        },
        "262bf79ea7364b35ac8276fb3c93b6de": {
          "model_module": "@jupyter-widgets/controls",
          "model_name": "HTMLModel",
          "state": {
            "_view_name": "HTMLView",
            "style": "IPY_MODEL_d64d0ccb60774f93a81f8e035e1f5cbd",
            "_dom_classes": [],
            "description": "",
            "_model_name": "HTMLModel",
            "placeholder": "​",
            "_view_module": "@jupyter-widgets/controls",
            "_model_module_version": "1.5.0",
            "value": " 251k/251k [00:03&lt;00:00, 62.7kB/s]",
            "_view_count": null,
            "_view_module_version": "1.5.0",
            "description_tooltip": null,
            "_model_module": "@jupyter-widgets/controls",
            "layout": "IPY_MODEL_89085adc97e04663a184139608e72371"
          }
        },
        "ba8f159f4fc740649434782f96e78999": {
          "model_module": "@jupyter-widgets/controls",
          "model_name": "ProgressStyleModel",
          "state": {
            "_view_name": "StyleView",
            "_model_name": "ProgressStyleModel",
            "description_width": "initial",
            "_view_module": "@jupyter-widgets/base",
            "_model_module_version": "1.5.0",
            "_view_count": null,
            "_view_module_version": "1.2.0",
            "bar_color": null,
            "_model_module": "@jupyter-widgets/controls"
          }
        },
        "efe32d2a7fbd4d1bba4112e497eb95af": {
          "model_module": "@jupyter-widgets/base",
          "model_name": "LayoutModel",
          "state": {
            "_view_name": "LayoutView",
            "grid_template_rows": null,
            "right": null,
            "justify_content": null,
            "_view_module": "@jupyter-widgets/base",
            "overflow": null,
            "_model_module_version": "1.2.0",
            "_view_count": null,
            "flex_flow": null,
            "width": null,
            "min_width": null,
            "border": null,
            "align_items": null,
            "bottom": null,
            "_model_module": "@jupyter-widgets/base",
            "top": null,
            "grid_column": null,
            "overflow_y": null,
            "overflow_x": null,
            "grid_auto_flow": null,
            "grid_area": null,
            "grid_template_columns": null,
            "flex": null,
            "_model_name": "LayoutModel",
            "justify_items": null,
            "grid_row": null,
            "max_height": null,
            "align_content": null,
            "visibility": null,
            "align_self": null,
            "height": null,
            "min_height": null,
            "padding": null,
            "grid_auto_rows": null,
            "grid_gap": null,
            "max_width": null,
            "order": null,
            "_view_module_version": "1.2.0",
            "grid_template_areas": null,
            "object_position": null,
            "object_fit": null,
            "grid_auto_columns": null,
            "margin": null,
            "display": null,
            "left": null
          }
        },
        "d64d0ccb60774f93a81f8e035e1f5cbd": {
          "model_module": "@jupyter-widgets/controls",
          "model_name": "DescriptionStyleModel",
          "state": {
            "_view_name": "StyleView",
            "_model_name": "DescriptionStyleModel",
            "description_width": "",
            "_view_module": "@jupyter-widgets/base",
            "_model_module_version": "1.5.0",
            "_view_count": null,
            "_view_module_version": "1.2.0",
            "_model_module": "@jupyter-widgets/controls"
          }
        },
        "89085adc97e04663a184139608e72371": {
          "model_module": "@jupyter-widgets/base",
          "model_name": "LayoutModel",
          "state": {
            "_view_name": "LayoutView",
            "grid_template_rows": null,
            "right": null,
            "justify_content": null,
            "_view_module": "@jupyter-widgets/base",
            "overflow": null,
            "_model_module_version": "1.2.0",
            "_view_count": null,
            "flex_flow": null,
            "width": null,
            "min_width": null,
            "border": null,
            "align_items": null,
            "bottom": null,
            "_model_module": "@jupyter-widgets/base",
            "top": null,
            "grid_column": null,
            "overflow_y": null,
            "overflow_x": null,
            "grid_auto_flow": null,
            "grid_area": null,
            "grid_template_columns": null,
            "flex": null,
            "_model_name": "LayoutModel",
            "justify_items": null,
            "grid_row": null,
            "max_height": null,
            "align_content": null,
            "visibility": null,
            "align_self": null,
            "height": null,
            "min_height": null,
            "padding": null,
            "grid_auto_rows": null,
            "grid_gap": null,
            "max_width": null,
            "order": null,
            "_view_module_version": "1.2.0",
            "grid_template_areas": null,
            "object_position": null,
            "object_fit": null,
            "grid_auto_columns": null,
            "margin": null,
            "display": null,
            "left": null
          }
        },
        "cf971cc9581f4bc1863b07245da3498e": {
          "model_module": "@jupyter-widgets/controls",
          "model_name": "HBoxModel",
          "state": {
            "_view_name": "HBoxView",
            "_dom_classes": [],
            "_model_name": "HBoxModel",
            "_view_module": "@jupyter-widgets/controls",
            "_model_module_version": "1.5.0",
            "_view_count": null,
            "_view_module_version": "1.5.0",
            "box_style": "",
            "layout": "IPY_MODEL_d982be54ef6a4708befee18262835e2a",
            "_model_module": "@jupyter-widgets/controls",
            "children": [
              "IPY_MODEL_87ffebb5886d43ee99a46c7710d40b69",
              "IPY_MODEL_5cac6cb274834533b9d9e62c369e32a1"
            ]
          }
        },
        "d982be54ef6a4708befee18262835e2a": {
          "model_module": "@jupyter-widgets/base",
          "model_name": "LayoutModel",
          "state": {
            "_view_name": "LayoutView",
            "grid_template_rows": null,
            "right": null,
            "justify_content": null,
            "_view_module": "@jupyter-widgets/base",
            "overflow": null,
            "_model_module_version": "1.2.0",
            "_view_count": null,
            "flex_flow": null,
            "width": null,
            "min_width": null,
            "border": null,
            "align_items": null,
            "bottom": null,
            "_model_module": "@jupyter-widgets/base",
            "top": null,
            "grid_column": null,
            "overflow_y": null,
            "overflow_x": null,
            "grid_auto_flow": null,
            "grid_area": null,
            "grid_template_columns": null,
            "flex": null,
            "_model_name": "LayoutModel",
            "justify_items": null,
            "grid_row": null,
            "max_height": null,
            "align_content": null,
            "visibility": null,
            "align_self": null,
            "height": null,
            "min_height": null,
            "padding": null,
            "grid_auto_rows": null,
            "grid_gap": null,
            "max_width": null,
            "order": null,
            "_view_module_version": "1.2.0",
            "grid_template_areas": null,
            "object_position": null,
            "object_fit": null,
            "grid_auto_columns": null,
            "margin": null,
            "display": null,
            "left": null
          }
        },
        "87ffebb5886d43ee99a46c7710d40b69": {
          "model_module": "@jupyter-widgets/controls",
          "model_name": "FloatProgressModel",
          "state": {
            "_view_name": "ProgressView",
            "style": "IPY_MODEL_75ed988008ae433895f0306d54dd46c1",
            "_dom_classes": [],
            "description": "Downloading: 100%",
            "_model_name": "FloatProgressModel",
            "bar_style": "success",
            "max": 408417454,
            "_view_module": "@jupyter-widgets/controls",
            "_model_module_version": "1.5.0",
            "value": 408417454,
            "_view_count": null,
            "_view_module_version": "1.5.0",
            "orientation": "horizontal",
            "min": 0,
            "description_tooltip": null,
            "_model_module": "@jupyter-widgets/controls",
            "layout": "IPY_MODEL_65e5be59eaf94b61a67e890987771327"
          }
        },
        "5cac6cb274834533b9d9e62c369e32a1": {
          "model_module": "@jupyter-widgets/controls",
          "model_name": "HTMLModel",
          "state": {
            "_view_name": "HTMLView",
            "style": "IPY_MODEL_98712bb166164b67aa181238b01b2e93",
            "_dom_classes": [],
            "description": "",
            "_model_name": "HTMLModel",
            "placeholder": "​",
            "_view_module": "@jupyter-widgets/controls",
            "_model_module_version": "1.5.0",
            "value": " 408M/408M [01:08&lt;00:00, 5.93MB/s]",
            "_view_count": null,
            "_view_module_version": "1.5.0",
            "description_tooltip": null,
            "_model_module": "@jupyter-widgets/controls",
            "layout": "IPY_MODEL_811a4255557f405e86aaf5c5d262e376"
          }
        },
        "75ed988008ae433895f0306d54dd46c1": {
          "model_module": "@jupyter-widgets/controls",
          "model_name": "ProgressStyleModel",
          "state": {
            "_view_name": "StyleView",
            "_model_name": "ProgressStyleModel",
            "description_width": "initial",
            "_view_module": "@jupyter-widgets/base",
            "_model_module_version": "1.5.0",
            "_view_count": null,
            "_view_module_version": "1.2.0",
            "bar_color": null,
            "_model_module": "@jupyter-widgets/controls"
          }
        },
        "65e5be59eaf94b61a67e890987771327": {
          "model_module": "@jupyter-widgets/base",
          "model_name": "LayoutModel",
          "state": {
            "_view_name": "LayoutView",
            "grid_template_rows": null,
            "right": null,
            "justify_content": null,
            "_view_module": "@jupyter-widgets/base",
            "overflow": null,
            "_model_module_version": "1.2.0",
            "_view_count": null,
            "flex_flow": null,
            "width": null,
            "min_width": null,
            "border": null,
            "align_items": null,
            "bottom": null,
            "_model_module": "@jupyter-widgets/base",
            "top": null,
            "grid_column": null,
            "overflow_y": null,
            "overflow_x": null,
            "grid_auto_flow": null,
            "grid_area": null,
            "grid_template_columns": null,
            "flex": null,
            "_model_name": "LayoutModel",
            "justify_items": null,
            "grid_row": null,
            "max_height": null,
            "align_content": null,
            "visibility": null,
            "align_self": null,
            "height": null,
            "min_height": null,
            "padding": null,
            "grid_auto_rows": null,
            "grid_gap": null,
            "max_width": null,
            "order": null,
            "_view_module_version": "1.2.0",
            "grid_template_areas": null,
            "object_position": null,
            "object_fit": null,
            "grid_auto_columns": null,
            "margin": null,
            "display": null,
            "left": null
          }
        },
        "98712bb166164b67aa181238b01b2e93": {
          "model_module": "@jupyter-widgets/controls",
          "model_name": "DescriptionStyleModel",
          "state": {
            "_view_name": "StyleView",
            "_model_name": "DescriptionStyleModel",
            "description_width": "",
            "_view_module": "@jupyter-widgets/base",
            "_model_module_version": "1.5.0",
            "_view_count": null,
            "_view_module_version": "1.2.0",
            "_model_module": "@jupyter-widgets/controls"
          }
        },
        "811a4255557f405e86aaf5c5d262e376": {
          "model_module": "@jupyter-widgets/base",
          "model_name": "LayoutModel",
          "state": {
            "_view_name": "LayoutView",
            "grid_template_rows": null,
            "right": null,
            "justify_content": null,
            "_view_module": "@jupyter-widgets/base",
            "overflow": null,
            "_model_module_version": "1.2.0",
            "_view_count": null,
            "flex_flow": null,
            "width": null,
            "min_width": null,
            "border": null,
            "align_items": null,
            "bottom": null,
            "_model_module": "@jupyter-widgets/base",
            "top": null,
            "grid_column": null,
            "overflow_y": null,
            "overflow_x": null,
            "grid_auto_flow": null,
            "grid_area": null,
            "grid_template_columns": null,
            "flex": null,
            "_model_name": "LayoutModel",
            "justify_items": null,
            "grid_row": null,
            "max_height": null,
            "align_content": null,
            "visibility": null,
            "align_self": null,
            "height": null,
            "min_height": null,
            "padding": null,
            "grid_auto_rows": null,
            "grid_gap": null,
            "max_width": null,
            "order": null,
            "_view_module_version": "1.2.0",
            "grid_template_areas": null,
            "object_position": null,
            "object_fit": null,
            "grid_auto_columns": null,
            "margin": null,
            "display": null,
            "left": null
          }
        }
      }
    }
  },
  "cells": [
    {
      "cell_type": "markdown",
      "metadata": {
        "id": "view-in-github",
        "colab_type": "text"
      },
      "source": [
        "<a href=\"https://colab.research.google.com/github/Mova-2020/maxmatch/blob/master/reverse_dictionary_UkrainianBERT.ipynb\" target=\"_parent\"><img src=\"https://colab.research.google.com/assets/colab-badge.svg\" alt=\"Open In Colab\"/></a>"
      ]
    },
    {
      "cell_type": "code",
      "metadata": {
        "id": "vEQrtSYncISN",
        "outputId": "078821d2-8e04-471e-9931-5362408ac948",
        "colab": {
          "base_uri": "https://localhost:8080/",
          "height": 659
        }
      },
      "source": [
        "!pip install transformers"
      ],
      "execution_count": null,
      "outputs": [
        {
          "output_type": "stream",
          "text": [
            "Collecting transformers\n",
            "\u001b[?25l  Downloading https://files.pythonhosted.org/packages/2c/4e/4f1ede0fd7a36278844a277f8d53c21f88f37f3754abf76a5d6224f76d4a/transformers-3.4.0-py3-none-any.whl (1.3MB)\n",
            "\u001b[K     |████████████████████████████████| 1.3MB 2.7MB/s \n",
            "\u001b[?25hRequirement already satisfied: regex!=2019.12.17 in /usr/local/lib/python3.6/dist-packages (from transformers) (2019.12.20)\n",
            "Collecting sacremoses\n",
            "\u001b[?25l  Downloading https://files.pythonhosted.org/packages/7d/34/09d19aff26edcc8eb2a01bed8e98f13a1537005d31e95233fd48216eed10/sacremoses-0.0.43.tar.gz (883kB)\n",
            "\u001b[K     |████████████████████████████████| 890kB 17.7MB/s \n",
            "\u001b[?25hRequirement already satisfied: tqdm>=4.27 in /usr/local/lib/python3.6/dist-packages (from transformers) (4.41.1)\n",
            "Collecting tokenizers==0.9.2\n",
            "\u001b[?25l  Downloading https://files.pythonhosted.org/packages/7c/a5/78be1a55b2ac8d6a956f0a211d372726e2b1dd2666bb537fea9b03abd62c/tokenizers-0.9.2-cp36-cp36m-manylinux1_x86_64.whl (2.9MB)\n",
            "\u001b[K     |████████████████████████████████| 2.9MB 22.4MB/s \n",
            "\u001b[?25hCollecting sentencepiece!=0.1.92\n",
            "\u001b[?25l  Downloading https://files.pythonhosted.org/packages/d4/a4/d0a884c4300004a78cca907a6ff9a5e9fe4f090f5d95ab341c53d28cbc58/sentencepiece-0.1.91-cp36-cp36m-manylinux1_x86_64.whl (1.1MB)\n",
            "\u001b[K     |████████████████████████████████| 1.1MB 39.3MB/s \n",
            "\u001b[?25hRequirement already satisfied: packaging in /usr/local/lib/python3.6/dist-packages (from transformers) (20.4)\n",
            "Requirement already satisfied: filelock in /usr/local/lib/python3.6/dist-packages (from transformers) (3.0.12)\n",
            "Requirement already satisfied: dataclasses; python_version < \"3.7\" in /usr/local/lib/python3.6/dist-packages (from transformers) (0.7)\n",
            "Requirement already satisfied: protobuf in /usr/local/lib/python3.6/dist-packages (from transformers) (3.12.4)\n",
            "Requirement already satisfied: numpy in /usr/local/lib/python3.6/dist-packages (from transformers) (1.18.5)\n",
            "Requirement already satisfied: requests in /usr/local/lib/python3.6/dist-packages (from transformers) (2.23.0)\n",
            "Requirement already satisfied: six in /usr/local/lib/python3.6/dist-packages (from sacremoses->transformers) (1.15.0)\n",
            "Requirement already satisfied: click in /usr/local/lib/python3.6/dist-packages (from sacremoses->transformers) (7.1.2)\n",
            "Requirement already satisfied: joblib in /usr/local/lib/python3.6/dist-packages (from sacremoses->transformers) (0.16.0)\n",
            "Requirement already satisfied: pyparsing>=2.0.2 in /usr/local/lib/python3.6/dist-packages (from packaging->transformers) (2.4.7)\n",
            "Requirement already satisfied: setuptools in /usr/local/lib/python3.6/dist-packages (from protobuf->transformers) (50.3.0)\n",
            "Requirement already satisfied: urllib3!=1.25.0,!=1.25.1,<1.26,>=1.21.1 in /usr/local/lib/python3.6/dist-packages (from requests->transformers) (1.24.3)\n",
            "Requirement already satisfied: chardet<4,>=3.0.2 in /usr/local/lib/python3.6/dist-packages (from requests->transformers) (3.0.4)\n",
            "Requirement already satisfied: certifi>=2017.4.17 in /usr/local/lib/python3.6/dist-packages (from requests->transformers) (2020.6.20)\n",
            "Requirement already satisfied: idna<3,>=2.5 in /usr/local/lib/python3.6/dist-packages (from requests->transformers) (2.10)\n",
            "Building wheels for collected packages: sacremoses\n",
            "  Building wheel for sacremoses (setup.py) ... \u001b[?25l\u001b[?25hdone\n",
            "  Created wheel for sacremoses: filename=sacremoses-0.0.43-cp36-none-any.whl size=893257 sha256=f31d875c6117ec8e51c6cc622ac433944e79041ff9d83179257d088b92f71364\n",
            "  Stored in directory: /root/.cache/pip/wheels/29/3c/fd/7ce5c3f0666dab31a50123635e6fb5e19ceb42ce38d4e58f45\n",
            "Successfully built sacremoses\n",
            "Installing collected packages: sacremoses, tokenizers, sentencepiece, transformers\n",
            "Successfully installed sacremoses-0.0.43 sentencepiece-0.1.91 tokenizers-0.9.2 transformers-3.4.0\n"
          ],
          "name": "stdout"
        }
      ]
    },
    {
      "cell_type": "code",
      "metadata": {
        "id": "dfEd9poGb8lh",
        "outputId": "fcec81c0-5429-4ed9-aac0-ed8b565f1563",
        "colab": {
          "base_uri": "https://localhost:8080/",
          "height": 165,
          "referenced_widgets": [
            "3875c3049b0b48aaa725c4fdba3438a9",
            "45e32e662e594c229e8796668dccdc03",
            "631bab1fdffc44d5945c87efb8faf864",
            "86b363c5f98a47b9b4b96ed6e8498e64",
            "39664568f58f48788f5cd7a4c90807d3",
            "d3ed39e639d44d26becf7a4179338da5",
            "fdece5dcf9f14c5ab4e51291adf8edd4",
            "0096040bc764433da51e238c72c892f8",
            "18d3b4f3e2e54f8f9161bf7e21bdc056",
            "acf72893dd3347f1846b0408ab2eae9f",
            "a34defbfba134326ba5aaa59c8af076b",
            "262bf79ea7364b35ac8276fb3c93b6de",
            "ba8f159f4fc740649434782f96e78999",
            "efe32d2a7fbd4d1bba4112e497eb95af",
            "d64d0ccb60774f93a81f8e035e1f5cbd",
            "89085adc97e04663a184139608e72371",
            "cf971cc9581f4bc1863b07245da3498e",
            "d982be54ef6a4708befee18262835e2a",
            "87ffebb5886d43ee99a46c7710d40b69",
            "5cac6cb274834533b9d9e62c369e32a1",
            "75ed988008ae433895f0306d54dd46c1",
            "65e5be59eaf94b61a67e890987771327",
            "98712bb166164b67aa181238b01b2e93",
            "811a4255557f405e86aaf5c5d262e376"
          ]
        }
      },
      "source": [
        "from transformers import AutoTokenizer, AutoModel\n",
        "\n",
        "tokenizer = AutoTokenizer.from_pretrained(\"TurkuNLP/wikibert-base-uk-cased\")\n",
        "\n",
        "model = AutoModel.from_pretrained(\"TurkuNLP/wikibert-base-uk-cased\")"
      ],
      "execution_count": null,
      "outputs": [
        {
          "output_type": "display_data",
          "data": {
            "application/vnd.jupyter.widget-view+json": {
              "model_id": "3875c3049b0b48aaa725c4fdba3438a9",
              "version_minor": 0,
              "version_major": 2
            },
            "text/plain": [
              "HBox(children=(FloatProgress(value=0.0, description='Downloading', max=313.0, style=ProgressStyle(description_…"
            ]
          },
          "metadata": {
            "tags": []
          }
        },
        {
          "output_type": "stream",
          "text": [
            "\n"
          ],
          "name": "stdout"
        },
        {
          "output_type": "display_data",
          "data": {
            "application/vnd.jupyter.widget-view+json": {
              "model_id": "18d3b4f3e2e54f8f9161bf7e21bdc056",
              "version_minor": 0,
              "version_major": 2
            },
            "text/plain": [
              "HBox(children=(FloatProgress(value=0.0, description='Downloading', max=250566.0, style=ProgressStyle(descripti…"
            ]
          },
          "metadata": {
            "tags": []
          }
        },
        {
          "output_type": "stream",
          "text": [
            "\n"
          ],
          "name": "stdout"
        },
        {
          "output_type": "display_data",
          "data": {
            "application/vnd.jupyter.widget-view+json": {
              "model_id": "cf971cc9581f4bc1863b07245da3498e",
              "version_minor": 0,
              "version_major": 2
            },
            "text/plain": [
              "HBox(children=(FloatProgress(value=0.0, description='Downloading', max=408417454.0, style=ProgressStyle(descri…"
            ]
          },
          "metadata": {
            "tags": []
          }
        },
        {
          "output_type": "stream",
          "text": [
            "\n"
          ],
          "name": "stdout"
        }
      ]
    },
    {
      "cell_type": "markdown",
      "metadata": {
        "id": "FKUUt17YnTvi"
      },
      "source": [
        "## Sample from Wikipedia"
      ]
    },
    {
      "cell_type": "code",
      "metadata": {
        "id": "IUE93Qd_dR1Z"
      },
      "source": [
        "s = \"\"\"«Криза на Нескінченних Землях» (англ. Crisis on Infinite Earths) — обмежена кросовер-серія коміксів, що складається з 12 випусків, які виходили з квітня 1985 по березень 1986 року за авторством «DC Comics». Серія дістала назву «максісерія», через значний внесок до всього Всесвіту видавництва. Її автори скасували мультивсесвіт — нескінченну кількість паралельних світів, які до цього існували у Всесвіті DC. Цим вони внесли значні зміни у Всесвіт і 50-річну концепцію сюжетної оповіді. Після цього всі комікс-серії «DC Comics» були «перезавантажені». Крім того, це був наймасштабніший кросовер, який існував на той час, у якому брали участь майже всі персонажі Всесвіту DC. Серію написав Марв Вульфман та ілюстрував Джордж Перес із командою у складі кількох художників. Серія є однією з найважливіших у Всесвіті DC: окрім скасування альтернативних світів, під час її подій загинули деякі відомі персонажі...\"\"\""
      ],
      "execution_count": null,
      "outputs": []
    },
    {
      "cell_type": "code",
      "metadata": {
        "id": "KKyqy5fudYNa"
      },
      "source": [
        "s_short = s[:293]"
      ],
      "execution_count": null,
      "outputs": []
    },
    {
      "cell_type": "code",
      "metadata": {
        "id": "_-SvAX1wdi4h",
        "outputId": "464dc49b-8889-4a59-b6d4-b3be00f53417",
        "colab": {
          "base_uri": "https://localhost:8080/",
          "height": 53
        }
      },
      "source": [
        "s_short"
      ],
      "execution_count": null,
      "outputs": [
        {
          "output_type": "execute_result",
          "data": {
            "application/vnd.google.colaboratory.intrinsic+json": {
              "type": "string"
            },
            "text/plain": [
              "'«Криза на Нескінченних Землях» (англ. Crisis on Infinite Earths) — обмежена кросовер-серія коміксів, що складається з 12 випусків, які виходили з квітня 1985 по березень 1986 року за авторством «DC Comics». Серія дістала назву «максісерія», через значний внесок до всього Всесвіту видавництва.'"
            ]
          },
          "metadata": {
            "tags": []
          },
          "execution_count": 14
        }
      ]
    },
    {
      "cell_type": "code",
      "metadata": {
        "id": "2ITzpzsCc-fa"
      },
      "source": [
        "output = tokenizer.tokenize(s_short)"
      ],
      "execution_count": null,
      "outputs": []
    },
    {
      "cell_type": "code",
      "metadata": {
        "id": "rCryfUkTd-Fj",
        "outputId": "894e06b0-0ccb-4181-c6b9-c8861b8b222a",
        "colab": {
          "base_uri": "https://localhost:8080/",
          "height": 1000
        }
      },
      "source": [
        "output"
      ],
      "execution_count": null,
      "outputs": [
        {
          "output_type": "execute_result",
          "data": {
            "text/plain": [
              "['«',\n",
              " 'кри',\n",
              " '##за',\n",
              " 'на',\n",
              " 'нескінчен',\n",
              " '##них',\n",
              " 'землях',\n",
              " '»',\n",
              " '(',\n",
              " 'англ',\n",
              " '.',\n",
              " 'c',\n",
              " '##ri',\n",
              " '##s',\n",
              " '##is',\n",
              " 'o',\n",
              " '##n',\n",
              " 'in',\n",
              " '##f',\n",
              " '##in',\n",
              " '##it',\n",
              " '##e',\n",
              " 'e',\n",
              " '##art',\n",
              " '##h',\n",
              " '##s',\n",
              " ')',\n",
              " '—',\n",
              " 'обме',\n",
              " '##жена',\n",
              " 'кро',\n",
              " '##сов',\n",
              " '##ер',\n",
              " '-',\n",
              " 'серія',\n",
              " 'комі',\n",
              " '##ксі',\n",
              " '##в',\n",
              " ',',\n",
              " 'що',\n",
              " 'складається',\n",
              " 'з',\n",
              " '12',\n",
              " 'випуск',\n",
              " '##ів',\n",
              " ',',\n",
              " 'які',\n",
              " 'виходили',\n",
              " 'з',\n",
              " 'квітня',\n",
              " '1985',\n",
              " 'по',\n",
              " 'березень',\n",
              " '1986',\n",
              " 'року',\n",
              " 'за',\n",
              " 'автор',\n",
              " '##ством',\n",
              " '«',\n",
              " 'd',\n",
              " '##c',\n",
              " 'com',\n",
              " '##ic',\n",
              " '##s',\n",
              " '»',\n",
              " '.',\n",
              " 'серія',\n",
              " 'діста',\n",
              " '##ла',\n",
              " 'назву',\n",
              " '«',\n",
              " 'ма',\n",
              " '##ксі',\n",
              " '##сер',\n",
              " '##і',\n",
              " '##я',\n",
              " '»',\n",
              " ',',\n",
              " 'через',\n",
              " 'зна',\n",
              " '##ч',\n",
              " '##нии',\n",
              " 'внесок',\n",
              " 'до',\n",
              " 'всього',\n",
              " 'всесвіт',\n",
              " '##у',\n",
              " 'видавництва',\n",
              " '.']"
            ]
          },
          "metadata": {
            "tags": []
          },
          "execution_count": 20
        }
      ]
    },
    {
      "cell_type": "markdown",
      "metadata": {
        "id": "LAG1PrYDnM8g"
      },
      "source": [
        "## Test with the `fts_dl_ukr`"
      ]
    },
    {
      "cell_type": "code",
      "metadata": {
        "id": "3Ob-9vnmfnKf"
      },
      "source": [
        "data = open('./fts_dl_ukr_@_subworded_2.txt', encoding='utf-8-sig').read()"
      ],
      "execution_count": null,
      "outputs": []
    },
    {
      "cell_type": "code",
      "metadata": {
        "id": "erQUaon5fwgB",
        "outputId": "a65d4ba5-eade-4b30-eb16-ada8b1c6f805",
        "colab": {
          "base_uri": "https://localhost:8080/",
          "height": 35
        }
      },
      "source": [
        "data.split('\\n\\n')[0].split('@')[1].strip().replace('&', ' ')"
      ],
      "execution_count": null,
      "outputs": [
        {
          "output_type": "execute_result",
          "data": {
            "application/vnd.google.colaboratory.intrinsic+json": {
              "type": "string"
            },
            "text/plain": [
              "'–  з мін а   на прям к у   по шир енн я   світ л а  ( ви пром ін юва нн я )  при   пере ход і   від   одн іє ї   си стем и   від лік у   до   інш ої .'"
            ]
          },
          "metadata": {
            "tags": []
          },
          "execution_count": 25
        }
      ]
    },
    {
      "cell_type": "code",
      "metadata": {
        "id": "lxlPmx_9gdp4"
      },
      "source": [
        "test_string = data.split('\\n\\n')[0].split('@')[1].strip().replace('&', ' ')"
      ],
      "execution_count": null,
      "outputs": []
    },
    {
      "cell_type": "code",
      "metadata": {
        "id": "YhIy4npYghjv"
      },
      "source": [
        "output_test_string = tokenizer.tokenize(test_string)"
      ],
      "execution_count": null,
      "outputs": []
    },
    {
      "cell_type": "code",
      "metadata": {
        "id": "EsKfZaGCgl3c",
        "outputId": "cc4cbc3e-cb9a-491c-dbe6-1f4d3292b20f",
        "colab": {
          "base_uri": "https://localhost:8080/",
          "height": 898
        }
      },
      "source": [
        "output_test_string"
      ],
      "execution_count": null,
      "outputs": [
        {
          "output_type": "execute_result",
          "data": {
            "text/plain": [
              "['–',\n",
              " 'з',\n",
              " 'мін',\n",
              " 'а',\n",
              " 'на',\n",
              " 'пря',\n",
              " '##м',\n",
              " 'к',\n",
              " 'у',\n",
              " 'по',\n",
              " 'шир',\n",
              " 'ен',\n",
              " '##н',\n",
              " 'я',\n",
              " 'світ',\n",
              " 'л',\n",
              " 'а',\n",
              " '(',\n",
              " 'ви',\n",
              " 'про',\n",
              " '##м',\n",
              " 'ін',\n",
              " 'ю',\n",
              " '##ва',\n",
              " 'н',\n",
              " '##н',\n",
              " 'я',\n",
              " ')',\n",
              " 'при',\n",
              " 'пере',\n",
              " 'хо',\n",
              " '##д',\n",
              " 'і',\n",
              " 'від',\n",
              " 'од',\n",
              " '##н',\n",
              " 'іє',\n",
              " 'і',\n",
              " 'си',\n",
              " 'сте',\n",
              " '##м',\n",
              " 'и',\n",
              " 'від',\n",
              " 'лік',\n",
              " 'у',\n",
              " 'до',\n",
              " 'ін',\n",
              " '##ш',\n",
              " 'о',\n",
              " '##і',\n",
              " '.']"
            ]
          },
          "metadata": {
            "tags": []
          },
          "execution_count": 47
        }
      ]
    },
    {
      "cell_type": "code",
      "metadata": {
        "id": "sFiVMrYHilKC"
      },
      "source": [
        "tokenized_test_string = tokenizer(test_string, return_tensors=\"pt\")\n",
        "outputs = model(**tokenized_test_string)"
      ],
      "execution_count": null,
      "outputs": []
    },
    {
      "cell_type": "code",
      "metadata": {
        "id": "Bjbk4Vs_kDVN",
        "outputId": "79ef71c4-fc79-4681-a6ab-8769bb3a33aa",
        "colab": {
          "base_uri": "https://localhost:8080/",
          "height": 1000
        }
      },
      "source": [
        "outputs[1].squeeze()"
      ],
      "execution_count": null,
      "outputs": [
        {
          "output_type": "execute_result",
          "data": {
            "text/plain": [
              "tensor([ 9.3183e-01, -3.7142e-01,  2.6687e-01,  1.0469e-01,  9.7075e-02,\n",
              "        -2.7606e-01, -3.0795e-02, -4.2803e-01,  7.9030e-01, -1.3336e-02,\n",
              "         9.4726e-01,  7.7011e-02, -8.9362e-01,  1.5024e-01, -9.1850e-01,\n",
              "        -1.5653e-01, -1.3559e-01, -1.3094e-01,  5.3689e-02, -1.8706e-01,\n",
              "        -8.9226e-01,  1.4421e-01,  1.8143e-01, -9.8776e-01,  8.2503e-02,\n",
              "         3.6174e-02, -2.9024e-01,  1.4163e-02, -8.5969e-01,  9.5933e-01,\n",
              "         2.6387e-01,  1.7388e-01, -2.3155e-01,  1.7711e-01,  5.6259e-02,\n",
              "        -1.8643e-01,  1.4960e-02, -2.8622e-01,  2.0717e-01,  6.2236e-02,\n",
              "         5.3018e-01, -7.6411e-02, -3.4775e-01, -5.3525e-01,  7.6609e-02,\n",
              "        -3.5519e-01, -8.5098e-02,  1.2600e-01, -1.6953e-01,  9.2878e-03,\n",
              "        -5.7855e-02,  7.8992e-03,  2.5063e-02,  1.0475e-01, -8.9496e-01,\n",
              "        -7.5060e-02, -1.7017e-01, -1.6970e-02, -1.3482e-01, -9.9430e-01,\n",
              "         5.4184e-02, -1.1839e-01,  7.0821e-01,  2.5325e-02, -9.7648e-01,\n",
              "         2.1583e-02, -1.6635e-01,  8.0571e-02,  5.2841e-01,  9.8842e-01,\n",
              "         9.8484e-01, -1.0597e-01,  2.5078e-02,  1.1484e-01,  1.9448e-02,\n",
              "        -3.2839e-01,  1.3901e-01,  5.7280e-02, -9.4190e-02,  5.7280e-01,\n",
              "         1.3227e-01, -8.6072e-01, -6.7195e-02,  4.7602e-02,  5.8403e-02,\n",
              "         1.7395e-01,  9.3632e-02,  8.5180e-01, -8.2042e-01, -1.1646e-04,\n",
              "         2.3776e-01, -7.0288e-02, -1.4424e-01, -2.2017e-01,  3.0853e-01,\n",
              "         3.5834e-02,  4.4040e-02,  8.2440e-01, -3.7675e-02,  9.9040e-01,\n",
              "         2.8545e-01,  1.3531e-01,  3.8575e-01, -3.5923e-01, -8.8292e-01,\n",
              "         1.6908e-01,  1.4701e-01,  6.6502e-01,  9.6524e-01,  4.6712e-02,\n",
              "         6.2513e-01, -2.6268e-01, -9.1727e-01, -2.2042e-01, -2.2298e-01,\n",
              "         5.8156e-01, -1.9576e-01,  3.1970e-01, -4.0640e-02, -3.2134e-01,\n",
              "         3.9884e-01, -8.0919e-01, -7.0197e-02, -1.1303e-01,  9.6883e-01,\n",
              "         7.7238e-01, -9.0187e-01,  1.4674e-01,  1.4116e-01,  1.1588e-01,\n",
              "        -8.2932e-02,  2.7519e-01, -5.5210e-02, -2.4640e-01,  8.5882e-01,\n",
              "        -1.1914e-01,  9.8146e-01,  1.4204e-01,  2.8533e-02,  4.1011e-01,\n",
              "         1.1311e-02,  2.0370e-01, -5.3021e-02, -7.2750e-01,  9.8403e-01,\n",
              "        -6.3263e-02, -1.4390e-01, -2.5388e-01,  9.4708e-01, -1.3115e-01,\n",
              "        -1.3513e-01, -9.9283e-01,  1.6173e-01, -3.7179e-02, -4.4944e-02,\n",
              "         1.2545e-01,  1.9235e-01,  7.6920e-02, -7.8118e-01,  9.5753e-01,\n",
              "        -1.2907e-01,  2.4799e-02,  6.5881e-02,  3.9089e-02, -1.0152e-01,\n",
              "        -9.7291e-01, -8.2711e-02,  5.9664e-01, -8.8356e-01, -1.6236e-01,\n",
              "        -7.6567e-02, -8.9519e-02,  3.0089e-02, -9.9439e-02, -8.8282e-01,\n",
              "        -1.9917e-02,  2.1276e-02, -1.4067e-01,  1.9427e-01,  3.4409e-01,\n",
              "        -6.8098e-01,  1.0011e-01, -7.6316e-01, -8.0589e-01, -9.9058e-01,\n",
              "        -1.1368e-01,  2.1708e-01, -1.4379e-02, -1.8638e-01, -1.2509e-01,\n",
              "        -9.5426e-01, -1.5431e-01,  7.8569e-02,  1.8232e-01, -1.6690e-01,\n",
              "        -2.1397e-02,  9.6236e-01,  9.8969e-01, -2.4807e-01,  1.5285e-02,\n",
              "        -3.8303e-02,  1.6402e-01, -8.6306e-01, -9.2923e-01, -3.5487e-02,\n",
              "         8.7546e-02, -1.0298e-01,  1.3661e-01,  2.1164e-01,  8.2880e-02,\n",
              "         8.8396e-01, -2.6339e-02, -2.1446e-01, -1.3553e-01, -9.1965e-01,\n",
              "        -9.8437e-01, -1.6473e-01,  3.8599e-02, -9.1779e-01, -5.6662e-03,\n",
              "        -2.0156e-01, -2.5003e-02, -6.3602e-02, -9.1306e-02, -1.5102e-01,\n",
              "         5.3669e-02, -4.0474e-02, -1.2062e-01,  4.1406e-02, -2.1053e-01,\n",
              "        -1.1021e-01,  3.9704e-01, -9.6535e-01,  3.5019e-01, -1.8062e-01,\n",
              "         7.4022e-02, -3.5333e-02,  1.7435e-02, -1.5288e-01,  1.5268e-01,\n",
              "        -7.1178e-02, -9.4754e-01,  2.6993e-02,  3.1236e-03,  2.2090e-01,\n",
              "         3.5043e-02,  3.9960e-02, -3.7407e-01,  8.5417e-01,  1.6030e-02,\n",
              "        -4.0042e-02,  9.9296e-01, -1.7219e-02, -2.3722e-01,  4.0556e-02,\n",
              "         9.5274e-01,  1.0439e-01,  9.7527e-01, -4.5148e-02,  8.0359e-01,\n",
              "         1.5338e-01, -6.7089e-01, -5.2480e-02, -9.9063e-01, -1.2589e-01,\n",
              "         2.0725e-01, -6.2293e-02, -8.4412e-02,  9.8720e-01,  8.3813e-01,\n",
              "        -7.2254e-01, -1.0992e-01,  1.0562e-01,  7.4417e-02, -9.9545e-01,\n",
              "         7.7722e-01, -2.2377e-01, -7.5341e-02,  7.3999e-01,  2.3332e-02,\n",
              "        -9.2834e-01, -1.1446e-01, -1.0398e-01, -6.9989e-02, -2.2767e-01,\n",
              "         5.5577e-02,  3.8269e-02,  4.9347e-02, -9.4804e-01,  4.0912e-02,\n",
              "        -5.1683e-03,  8.8601e-01, -2.2789e-01,  2.0990e-01,  6.0988e-02,\n",
              "        -6.1009e-02, -1.0380e-02,  9.7250e-01,  3.5417e-01, -9.5822e-01,\n",
              "         7.5939e-02, -3.0393e-01, -4.9166e-02, -5.0180e-03, -9.6525e-01,\n",
              "        -6.1597e-02, -1.2061e-01, -1.5292e-01, -8.3800e-01, -4.9860e-01,\n",
              "        -8.4697e-01,  7.2117e-01,  8.4725e-02, -2.5197e-01, -3.1192e-02,\n",
              "        -4.2601e-03, -4.9353e-01,  1.0804e-01, -1.5260e-02, -2.3229e-01,\n",
              "         4.0033e-01,  2.0595e-01, -9.8006e-01, -1.4251e-02,  1.0293e-01,\n",
              "         7.3767e-01,  3.7802e-02,  4.2952e-02, -3.6493e-02,  5.4023e-03,\n",
              "         7.4470e-02, -9.3261e-01,  8.7512e-02, -2.2169e-01, -1.9672e-01,\n",
              "         2.5490e-01,  9.0928e-01, -6.8570e-02, -3.2044e-03, -1.4123e-01,\n",
              "         7.3445e-02,  9.0820e-01,  2.2804e-02,  6.0825e-01, -9.2875e-02,\n",
              "         8.6245e-01,  9.6423e-02, -7.7519e-02, -3.5126e-02,  9.4372e-02,\n",
              "         8.1223e-01,  7.4708e-02,  4.2402e-04,  7.1399e-01,  5.6177e-02,\n",
              "         9.7279e-01, -2.8592e-01, -1.6610e-01, -2.8921e-02,  4.1567e-02,\n",
              "         1.1475e-01,  9.9885e-02,  3.8838e-02,  2.3239e-03, -1.1499e-01,\n",
              "         5.2347e-02, -2.2194e-02,  1.9518e-01, -8.9585e-01, -1.2432e-02,\n",
              "         7.6830e-01,  1.1926e-01, -7.6582e-01, -5.0101e-02,  1.8894e-01,\n",
              "         7.7925e-02, -8.1166e-02,  1.2313e-01, -8.4031e-02,  1.4374e-02,\n",
              "        -9.1703e-01, -2.6698e-01, -1.4290e-01, -9.4623e-01,  1.1468e-01,\n",
              "        -6.5663e-01, -1.3681e-01, -1.1518e-02,  8.7842e-01,  2.2419e-01,\n",
              "         1.2702e-01,  7.4734e-01,  8.2957e-01,  7.1870e-01,  9.0595e-01,\n",
              "        -1.9714e-02,  5.9326e-01,  1.6796e-01,  3.2525e-03, -5.6364e-02,\n",
              "        -9.7837e-01, -5.4665e-01,  5.5653e-02,  2.9152e-02,  1.3208e-01,\n",
              "        -5.1257e-02,  9.6360e-01, -4.4428e-01,  4.3343e-03, -9.7930e-01,\n",
              "         1.5255e-01, -1.2319e-01, -2.8147e-02, -9.9570e-01, -7.0765e-01,\n",
              "         7.5279e-01,  1.0327e-01,  1.4463e-01, -5.7162e-02, -1.2458e-01,\n",
              "        -2.0295e-01,  1.1226e-01,  4.5214e-02, -6.9502e-01, -5.4665e-01,\n",
              "         4.1634e-02, -9.7097e-01,  8.1324e-01,  7.8884e-02, -1.3487e-01,\n",
              "         9.7433e-01,  7.3564e-03,  7.6744e-01, -4.7785e-01,  3.3891e-01,\n",
              "         4.2692e-01,  4.7113e-01, -6.2858e-01, -7.8878e-02, -8.0364e-02,\n",
              "         1.4988e-01,  1.4169e-01, -3.9454e-03,  5.2417e-02, -9.9964e-02,\n",
              "        -1.2928e-01,  3.4462e-01,  1.6963e-02,  9.3480e-01,  8.5773e-01,\n",
              "         6.1844e-02, -2.0499e-02, -1.0366e-01,  3.5386e-01, -2.3062e-01,\n",
              "         6.1236e-01,  8.3417e-01, -9.8549e-01,  6.8421e-02,  8.4900e-02,\n",
              "        -8.5428e-02,  9.0225e-01,  7.6844e-02, -2.0008e-02,  1.6668e-01,\n",
              "         8.8039e-01, -3.4079e-01,  9.4563e-01,  6.1815e-01, -6.2613e-02,\n",
              "        -1.8561e-01,  4.2763e-02, -9.9684e-01, -1.7733e-01, -8.7443e-01,\n",
              "        -4.4712e-02, -1.5820e-01,  3.1744e-01, -3.5698e-02, -1.7276e-02,\n",
              "         2.7132e-01,  3.6783e-03, -5.1292e-02, -8.7521e-01, -1.5546e-01,\n",
              "        -5.5570e-02,  2.9680e-01,  9.7600e-01, -2.4350e-01,  8.3846e-01,\n",
              "         4.2655e-02,  7.2858e-01, -4.0625e-01,  6.5504e-02, -1.3004e-01,\n",
              "         7.3694e-02, -1.0923e-01, -9.9215e-02,  1.7931e-01, -8.9979e-01,\n",
              "         7.5286e-01,  1.9041e-01,  1.0837e-02,  8.2463e-01, -1.2424e-01,\n",
              "         4.7528e-02, -2.2449e-01, -7.1115e-01,  2.2038e-01,  2.0184e-01,\n",
              "         8.0428e-01,  1.2950e-01, -9.9031e-01,  3.5643e-01,  1.1784e-01,\n",
              "        -1.4385e-02,  1.0285e-01,  2.8296e-03, -1.2811e-01,  1.3649e-01,\n",
              "         6.2978e-02, -9.7907e-01, -7.5801e-02,  1.4812e-01,  7.8766e-01,\n",
              "        -9.4660e-01,  1.0620e-02, -2.2098e-01,  9.1189e-01,  8.3251e-01,\n",
              "        -4.8536e-02, -9.3998e-01,  1.0977e-01,  1.1257e-02,  5.3819e-02,\n",
              "         2.2647e-01,  9.4460e-01, -3.3551e-01, -1.9848e-02, -5.8546e-01,\n",
              "        -1.3859e-01, -9.3269e-01, -9.5454e-01,  8.2068e-01, -3.8802e-02,\n",
              "         1.0857e-01,  2.5596e-01,  9.3815e-01,  9.4309e-02, -1.3107e-01,\n",
              "        -1.9375e-01,  5.8524e-02,  3.9153e-02, -1.2668e-02,  1.2059e-02,\n",
              "        -8.9876e-01, -1.8933e-01, -9.9846e-01, -5.0079e-01, -1.3648e-01,\n",
              "         3.1545e-01, -1.0936e-01, -2.0208e-01,  5.6565e-02, -9.3472e-02,\n",
              "         4.7006e-02,  9.8013e-01,  1.1062e-01, -1.7174e-01,  8.8812e-01,\n",
              "         2.9365e-02, -1.6339e-01, -9.6482e-01, -1.1157e-01, -1.9300e-01,\n",
              "         1.4360e-01,  9.9773e-01,  7.3238e-02, -9.1070e-03,  1.7436e-01,\n",
              "        -2.5545e-01, -9.7691e-01, -8.3139e-01,  1.0297e-01, -9.4526e-01,\n",
              "         7.7802e-02, -1.1764e-01,  1.9612e-01,  1.0640e-01, -8.7969e-01,\n",
              "        -8.9663e-02, -1.4807e-01,  7.2394e-01, -1.8070e-03,  9.5876e-01,\n",
              "         9.7409e-01,  9.1691e-01, -8.5932e-01,  1.3077e-01,  1.4887e-01,\n",
              "         6.8848e-02, -2.6241e-01,  1.0967e-01, -9.5550e-01, -1.9990e-01,\n",
              "         2.0083e-01, -1.4826e-01,  5.4527e-01,  3.8526e-01,  8.7817e-01,\n",
              "         8.8156e-02, -2.8161e-01, -2.3190e-02,  1.3263e-01, -9.9025e-02,\n",
              "         9.8036e-01, -9.7607e-01,  3.7412e-01, -3.8244e-01, -1.1161e-01,\n",
              "         2.5269e-01, -1.2279e-01,  8.0421e-01, -2.4796e-01,  2.3063e-01,\n",
              "        -8.3066e-02, -2.0333e-01, -8.8351e-01,  1.4368e-02,  2.5838e-02,\n",
              "         4.9420e-01,  6.1139e-01,  7.7970e-02, -9.1263e-01, -9.8682e-01,\n",
              "        -4.6528e-02, -9.7296e-01, -1.1841e-01,  6.4890e-01, -1.6299e-01,\n",
              "         2.2356e-01, -1.9217e-01, -3.3009e-01, -6.0914e-01, -3.9594e-02,\n",
              "         2.1377e-01, -9.5961e-01,  2.6385e-02, -1.2474e-01, -1.0884e-01,\n",
              "         1.9877e-03,  2.6933e-02, -6.9420e-01,  7.8017e-03,  9.8978e-02,\n",
              "        -8.1995e-01,  9.9768e-01,  1.9108e-02,  3.6081e-01, -7.7936e-01,\n",
              "        -8.3415e-01, -9.8001e-01, -7.2651e-01,  1.1349e-01,  2.8087e-01,\n",
              "        -6.0563e-03, -6.8449e-01, -3.2830e-01,  1.7340e-01,  1.3335e-01,\n",
              "        -6.3594e-01, -7.1312e-02, -8.3480e-02,  7.5289e-02, -4.7945e-02,\n",
              "         9.7460e-01,  6.1262e-02, -4.8680e-01,  6.6397e-02,  8.2967e-01,\n",
              "         2.5082e-01, -9.6090e-02,  2.2737e-01,  2.1587e-01,  5.7481e-01,\n",
              "         2.0848e-02, -6.6916e-01, -9.3121e-02, -8.7435e-02,  7.9786e-01,\n",
              "         2.8503e-02,  1.1541e-01,  1.2110e-01, -2.0129e-01,  1.3147e-02,\n",
              "         2.9290e-02, -1.3699e-01,  3.1891e-01, -5.4202e-02,  1.5441e-01,\n",
              "         3.5880e-01, -8.3531e-02,  7.5182e-03,  9.7903e-02, -1.5377e-01,\n",
              "         6.6140e-02,  2.8154e-02, -9.6519e-01, -1.5284e-01,  6.3221e-01,\n",
              "        -4.1830e-01, -1.0352e-02, -1.8043e-02,  9.0029e-01, -9.5486e-01,\n",
              "         1.0030e-01,  2.6624e-02, -2.2698e-01,  9.8108e-01, -2.5523e-02,\n",
              "         2.2841e-01,  1.6793e-01,  8.9579e-02,  6.7481e-01, -2.3251e-01,\n",
              "         2.0147e-01,  3.0732e-01, -8.4321e-01,  9.0296e-01,  9.8452e-01,\n",
              "        -7.8871e-01, -5.2917e-01, -1.1655e-01, -1.3694e-01, -8.2707e-02,\n",
              "        -9.2006e-02, -8.2964e-02,  9.6494e-01, -1.7105e-01, -6.2744e-02,\n",
              "        -9.3542e-01,  8.5741e-03,  2.3787e-01,  6.2298e-01,  1.0932e-01,\n",
              "         1.4381e-02,  1.3311e-01,  7.5664e-01,  9.2200e-01, -1.2257e-01,\n",
              "        -7.6834e-02,  3.4356e-01, -1.9010e-01, -3.6103e-02, -9.8614e-01,\n",
              "         9.0065e-01,  1.7167e-01, -9.9566e-01, -1.1030e-01,  2.0780e-01,\n",
              "         1.9743e-02,  9.7076e-01, -3.7130e-01, -8.8546e-02,  5.4843e-01,\n",
              "         9.8249e-01, -8.6324e-01, -2.6852e-01], grad_fn=<SqueezeBackward0>)"
            ]
          },
          "metadata": {
            "tags": []
          },
          "execution_count": 57
        }
      ]
    },
    {
      "cell_type": "markdown",
      "metadata": {
        "id": "xbCsa_SdnX0g"
      },
      "source": [
        "## Cosine distance on term/explanation pair"
      ]
    },
    {
      "cell_type": "code",
      "metadata": {
        "id": "nY3LF-W2mw_T"
      },
      "source": [
        "term, explanation = data.split('\\n\\n')[0].replace('&', ' ').split('@')"
      ],
      "execution_count": null,
      "outputs": []
    },
    {
      "cell_type": "code",
      "metadata": {
        "id": "souj6PvVm8Cm",
        "outputId": "7add90d6-dd95-425c-8663-0f2bed031e4c",
        "colab": {
          "base_uri": "https://localhost:8080/",
          "height": 35
        }
      },
      "source": [
        "term"
      ],
      "execution_count": null,
      "outputs": [
        {
          "output_type": "execute_result",
          "data": {
            "application/vnd.google.colaboratory.intrinsic+json": {
              "type": "string"
            },
            "text/plain": [
              "' аб ер ац і я   світ л а  '"
            ]
          },
          "metadata": {
            "tags": []
          },
          "execution_count": 65
        }
      ]
    },
    {
      "cell_type": "code",
      "metadata": {
        "id": "CyTFe-WynfwC"
      },
      "source": [
        "term_tokenized = tokenizer(term, return_tensors=\"pt\")\n",
        "term_vector = model(**term_tokenized)[1].squeeze()\n",
        "\n",
        "explanation_tokenized = tokenizer(explanation, return_tensors=\"pt\")\n",
        "explanation_vector = model(**explanation_tokenized)[1].squeeze()\n"
      ],
      "execution_count": null,
      "outputs": []
    },
    {
      "cell_type": "code",
      "metadata": {
        "id": "BeuS8Xgwn0rH",
        "outputId": "70342627-7b5b-4b64-d077-7aa0e2346fa9",
        "colab": {
          "base_uri": "https://localhost:8080/",
          "height": 35
        }
      },
      "source": [
        "term_vector.size()"
      ],
      "execution_count": null,
      "outputs": [
        {
          "output_type": "execute_result",
          "data": {
            "text/plain": [
              "torch.Size([768])"
            ]
          },
          "metadata": {
            "tags": []
          },
          "execution_count": 67
        }
      ]
    },
    {
      "cell_type": "code",
      "metadata": {
        "id": "-wb2Z91On4Ai",
        "outputId": "aa805b47-b7a6-42ea-fe69-090e49749830",
        "colab": {
          "base_uri": "https://localhost:8080/",
          "height": 35
        }
      },
      "source": [
        "explanation_vector.size()"
      ],
      "execution_count": null,
      "outputs": [
        {
          "output_type": "execute_result",
          "data": {
            "text/plain": [
              "torch.Size([768])"
            ]
          },
          "metadata": {
            "tags": []
          },
          "execution_count": 68
        }
      ]
    },
    {
      "cell_type": "code",
      "metadata": {
        "id": "ztqrOAx_n60L"
      },
      "source": [
        "import torch.nn"
      ],
      "execution_count": null,
      "outputs": []
    },
    {
      "cell_type": "code",
      "metadata": {
        "id": "wGXf-fwgoOtj",
        "outputId": "224875de-8c08-4050-b99f-8a4d15e9d495",
        "colab": {
          "base_uri": "https://localhost:8080/",
          "height": 35
        }
      },
      "source": [
        "cos = torch.nn.CosineSimilarity(dim=0)\n",
        "cos(term_vector, explanation_vector)"
      ],
      "execution_count": null,
      "outputs": [
        {
          "output_type": "execute_result",
          "data": {
            "text/plain": [
              "tensor(0.9248, grad_fn=<DivBackward0>)"
            ]
          },
          "metadata": {
            "tags": []
          },
          "execution_count": 73
        }
      ]
    }
  ]
}